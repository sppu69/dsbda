{
  "cells": [
    {
      "cell_type": "code",
      "execution_count": 2,
      "metadata": {
        "colab": {
          "base_uri": "https://localhost:8080/",
          "height": 206
        },
        "id": "H-1wXUsy9Bvr",
        "outputId": "3ce634f7-39f5-418d-dfa8-9e32ac388a88"
      },
      "outputs": [
        {
          "ename": "ModuleNotFoundError",
          "evalue": "No module named 'pandas'",
          "output_type": "error",
          "traceback": [
            "\u001b[31m---------------------------------------------------------------------------\u001b[39m",
            "\u001b[31mModuleNotFoundError\u001b[39m                       Traceback (most recent call last)",
            "\u001b[36mCell\u001b[39m\u001b[36m \u001b[39m\u001b[32mIn[2]\u001b[39m\u001b[32m, line 1\u001b[39m\n\u001b[32m----> \u001b[39m\u001b[32m1\u001b[39m \u001b[38;5;28;01mimport\u001b[39;00m\u001b[38;5;250m \u001b[39m\u001b[34;01mpandas\u001b[39;00m\u001b[38;5;250m \u001b[39m\u001b[38;5;28;01mas\u001b[39;00m\u001b[38;5;250m \u001b[39m\u001b[34;01mpd\u001b[39;00m\n\u001b[32m      2\u001b[39m \u001b[38;5;28;01mimport\u001b[39;00m\u001b[38;5;250m \u001b[39m\u001b[34;01mnumpy\u001b[39;00m\u001b[38;5;250m \u001b[39m\u001b[38;5;28;01mas\u001b[39;00m\u001b[38;5;250m \u001b[39m\u001b[34;01mnp\u001b[39;00m\n\u001b[32m      3\u001b[39m df = pd.read_csv(\u001b[33m\"\u001b[39m\u001b[33mIRIS - IRIS.csv\u001b[39m\u001b[33m\"\u001b[39m)\n",
            "\u001b[31mModuleNotFoundError\u001b[39m: No module named 'pandas'"
          ]
        }
      ],
      "source": [
        "import pandas as pd\n",
        "import numpy as np\n",
        "df = pd.read_csv(\"IRIS - IRIS.csv\")\n",
        "df.head()"
      ]
    },
    {
      "cell_type": "code",
      "execution_count": null,
      "metadata": {
        "colab": {
          "base_uri": "https://localhost:8080/"
        },
        "id": "dumY4nVP9-Gc",
        "outputId": "a7a7f858-b96f-4935-c59a-c4de5411c8fa"
      },
      "outputs": [],
      "source": [
        "df.dtypes"
      ]
    },
    {
      "cell_type": "code",
      "execution_count": null,
      "metadata": {
        "id": "9_tMuA3T-KpV"
      },
      "outputs": [],
      "source": [
        "from sklearn import preprocessing\n",
        "min_max_scaler = preprocessing.MinMaxScaler()"
      ]
    },
    {
      "cell_type": "code",
      "execution_count": null,
      "metadata": {
        "id": "z6kTn_gh-Zns"
      },
      "outputs": [],
      "source": [
        "x = df.iloc[:,:4]"
      ]
    },
    {
      "cell_type": "code",
      "execution_count": null,
      "metadata": {
        "colab": {
          "base_uri": "https://localhost:8080/",
          "height": 424
        },
        "id": "HEh4pdde-gy9",
        "outputId": "b76280e5-44f0-4e90-f4b3-280509426e56"
      },
      "outputs": [],
      "source": [
        "x"
      ]
    },
    {
      "cell_type": "code",
      "execution_count": null,
      "metadata": {
        "id": "3rfymSA6-ldF"
      },
      "outputs": [],
      "source": [
        "x_scaled = min_max_scaler.fit_transform(x)"
      ]
    },
    {
      "cell_type": "code",
      "execution_count": null,
      "metadata": {
        "colab": {
          "base_uri": "https://localhost:8080/",
          "height": 424
        },
        "id": "pnc8Ys4R-wNW",
        "outputId": "4c9e3569-6a15-4aad-d539-2a2f6a0428fa"
      },
      "outputs": [],
      "source": [
        "df_normalized = pd.DataFrame(x_scaled)\n",
        "df_normalized"
      ]
    },
    {
      "cell_type": "code",
      "execution_count": null,
      "metadata": {
        "colab": {
          "base_uri": "https://localhost:8080/"
        },
        "id": "zE5WkbZ5-1pW",
        "outputId": "36d0b352-0c3e-4a85-f1b8-d7aa87cc2866"
      },
      "outputs": [],
      "source": [
        "df['species'].unique()"
      ]
    },
    {
      "cell_type": "code",
      "execution_count": null,
      "metadata": {
        "id": "eks8Y1s0_ZRm"
      },
      "outputs": [],
      "source": [
        "label_encoder = preprocessing.LabelEncoder()\n",
        "df['species'] = label_encoder.fit_transform(df['species'])"
      ]
    },
    {
      "cell_type": "code",
      "execution_count": null,
      "metadata": {
        "colab": {
          "base_uri": "https://localhost:8080/"
        },
        "id": "c015fTcg_vtg",
        "outputId": "ce9f8249-eb47-496e-c406-ab97b9a5f4d0"
      },
      "outputs": [],
      "source": [
        "df['species'].unique()"
      ]
    },
    {
      "cell_type": "code",
      "execution_count": null,
      "metadata": {
        "id": "6ntulaNF_6gY"
      },
      "outputs": [],
      "source": [
        "features_df = df.drop(columns=['species'])"
      ]
    },
    {
      "cell_type": "code",
      "execution_count": null,
      "metadata": {
        "id": "ZGE0xnI0AjVr"
      },
      "outputs": [],
      "source": [
        "enc = preprocessing.OneHotEncoder()\n",
        "enc_df=pd.DataFrame(enc.fit_transform(df[['species']]).toarray())"
      ]
    },
    {
      "cell_type": "code",
      "execution_count": null,
      "metadata": {
        "colab": {
          "base_uri": "https://localhost:8080/",
          "height": 424
        },
        "id": "rKGPyL6-nkNB",
        "outputId": "db220e20-907d-478e-8312-dcb0f57988b3"
      },
      "outputs": [],
      "source": [
        "df_encode = features_df.join(enc_df)\n",
        "df_encode"
      ]
    },
    {
      "cell_type": "code",
      "execution_count": null,
      "metadata": {
        "id": "38V98MH8Oqam"
      },
      "outputs": [],
      "source": [
        "df_encode.rename(columns = {0:'Iris-Setosa',\n",
        "1:'Iris-Versicolor',2:'Iris-virginica'}, inplace = True)"
      ]
    },
    {
      "cell_type": "code",
      "execution_count": null,
      "metadata": {
        "colab": {
          "base_uri": "https://localhost:8080/",
          "height": 485
        },
        "id": "ZRatWE50n68Y",
        "outputId": "9c2aa0cd-0099-4a35-b9fd-2fbff18395a9"
      },
      "outputs": [],
      "source": [
        "df_encode"
      ]
    },
    {
      "cell_type": "code",
      "execution_count": null,
      "metadata": {
        "colab": {
          "base_uri": "https://localhost:8080/"
        },
        "id": "WhYVba-bomUb",
        "outputId": "45046c0a-be9e-4c29-ab11-9bcefbeb28ce"
      },
      "outputs": [],
      "source": [
        "from sklearn import preprocessing\n",
        "df['species'].unique()\n"
      ]
    },
    {
      "cell_type": "code",
      "execution_count": null,
      "metadata": {
        "id": "ot3s6-dIozK0"
      },
      "outputs": [],
      "source": [
        "one_hot_df = pd.get_dummies(df, prefix=\"Species\",\n",
        "columns=['species'], drop_first=True)"
      ]
    },
    {
      "cell_type": "code",
      "execution_count": null,
      "metadata": {
        "colab": {
          "base_uri": "https://localhost:8080/",
          "height": 424
        },
        "id": "Mukf0nZmo7rV",
        "outputId": "ffdee46e-284f-44ca-b26e-2d8433aaca9f"
      },
      "outputs": [],
      "source": [
        "one_hot_df"
      ]
    }
  ],
  "metadata": {
    "colab": {
      "provenance": []
    },
    "kernelspec": {
      "display_name": "Python 3",
      "name": "python3"
    },
    "language_info": {
      "codemirror_mode": {
        "name": "ipython",
        "version": 3
      },
      "file_extension": ".py",
      "mimetype": "text/x-python",
      "name": "python",
      "nbconvert_exporter": "python",
      "pygments_lexer": "ipython3",
      "version": "3.13.0"
    }
  },
  "nbformat": 4,
  "nbformat_minor": 0
}
